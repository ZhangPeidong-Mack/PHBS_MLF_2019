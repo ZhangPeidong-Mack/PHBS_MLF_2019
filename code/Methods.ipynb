{
 "cells": [
  {
   "cell_type": "markdown",
   "metadata": {},
   "source": [
    "# Table of contents"
   ]
  },
  {
   "cell_type": "markdown",
   "metadata": {},
   "source": [
    "- [Data Preparation](#Data-Preparation)\n",
    "- [SVM Method](#SVM-Method)\n",
    "- [Logistic Regression Method](#Logistic-Regression-Method)\n",
    "- [Random Forest Method](#Random-Forest-Method)\n",
    "- [KNN Method](#KNN-Method)"
   ]
  },
  {
   "cell_type": "markdown",
   "metadata": {},
   "source": [
    "## Notice: This ipynb file must be run after 'DataPreprocessing.ipynb', or the training data and test data cannot be loaded."
   ]
  },
  {
   "cell_type": "markdown",
   "metadata": {},
   "source": [
    "# Data Preparation"
   ]
  },
  {
   "cell_type": "markdown",
   "metadata": {},
   "source": [
    "## Import necessary packages"
   ]
  },
  {
   "cell_type": "code",
   "execution_count": 1,
   "metadata": {},
   "outputs": [],
   "source": [
    "from sklearn.metrics import classification_report\n",
    "from sklearn.metrics import confusion_matrix\n",
    "from sklearn.linear_model import LogisticRegression\n",
    "from sklearn.preprocessing import StandardScaler\n",
    "from sklearn.pipeline import make_pipeline\n",
    "from sklearn.model_selection import GridSearchCV\n",
    "from sklearn.model_selection import train_test_split\n",
    "from sklearn import svm\n",
    "import random\n",
    "import pandas as pd\n",
    "import numpy as np\n",
    "from sklearn.ensemble import RandomForestClassifier\n",
    "import warnings\n",
    "warnings.filterwarnings('ignore')"
   ]
  },
  {
   "cell_type": "markdown",
   "metadata": {},
   "source": [
    "## Load data"
   ]
  },
  {
   "cell_type": "code",
   "execution_count": 2,
   "metadata": {},
   "outputs": [],
   "source": [
    "traindata = pd.read_csv('traindata.csv')\n",
    "testdata = pd.read_csv('testdata.csv')"
   ]
  },
  {
   "cell_type": "markdown",
   "metadata": {},
   "source": [
    "## Form Xtrain\\Xtest\\Ytrain\\Ytest as we did in preprocessing part(make sure to run smoothly)"
   ]
  },
  {
   "cell_type": "code",
   "execution_count": 3,
   "metadata": {},
   "outputs": [
    {
     "name": "stdout",
     "output_type": "stream",
     "text": [
      "[0.48619757 0.3416973  0.09348087]\n"
     ]
    }
   ],
   "source": [
    "##train set\n",
    "trMOM = traindata.MOM.values\n",
    "trRSI = traindata.RSI.values\n",
    "trEMA6 = traindata.EMA6.values\n",
    "trEMA12 = traindata.EMA12.values\n",
    "trMACD = traindata.MACD.values\n",
    "tratr = traindata.atr.values\n",
    "\n",
    "ss = pd.DataFrame({'MOM':trMOM,'RSI':trRSI,'EMA6':trEMA6,'EMA12':trEMA12,'MACD':trMACD,'ATR':tratr})\n",
    "\n",
    "from sklearn.decomposition import PCA\n",
    "from sklearn.preprocessing import StandardScaler\n",
    "##Standlization\n",
    "scaler = StandardScaler()\n",
    "scaler.fit(ss)\n",
    "trans_ss = scaler.transform(ss)\n",
    "##PCA\n",
    "pca = PCA(n_components=3)\n",
    "newss = pca.fit_transform(trans_ss)\n",
    "\n",
    "##print pca score\n",
    "print(pca.explained_variance_ratio_)\n",
    "\n",
    "##test set\n",
    "teMOM = testdata.MOM.values\n",
    "teRSI = testdata.RSI.values\n",
    "teEMA6 = testdata.EMA6.values\n",
    "teEMA12 = testdata.EMA12.values\n",
    "teMACD = testdata.MACD.values\n",
    "teatr = testdata.atr.values\n",
    "\n",
    "xx = pd.DataFrame({'MOM':teMOM,'RSI':teRSI,'EMA6':teEMA6,'EMA12':teEMA12,'MACD':teMACD,'ATR':teatr})\n",
    "##implement pca to test set\n",
    "trans_xx = scaler.transform(xx)\n",
    "newxx = pca.transform(trans_xx)\n",
    "\n",
    "traindata = traindata.reset_index(drop=True)   \n",
    "Ytrain = []\n",
    "for i in range(0,len(traindata)):\n",
    "    if i%10 == 9:\n",
    "        if traindata.loc[i,'close'] > traindata.loc[i-4,'close']:\n",
    "            Ytrain.append(1)\n",
    "        else:\n",
    "            Ytrain.append(-1)   \n",
    "\n",
    "\n",
    "testdata = testdata.reset_index(drop=True)\n",
    "Ytest = []\n",
    "for i in range(0,len(testdata)):\n",
    "    if i%10 == 9:\n",
    "        if testdata.loc[i,'close'] > testdata.loc[i-4,'close']:\n",
    "            Ytest.append(1)\n",
    "        else:\n",
    "            Ytest.append(-1)\n",
    "\n",
    "Xtrain = []\n",
    "for i in range(0,len(newss)):\n",
    "    if i%10 == 4:\n",
    "        temp = []\n",
    "        for j in range(4,-1,-1): \n",
    "            temp.append(newss[i-j,0])\n",
    "            temp.append(newss[i-j,1])\n",
    "            temp.append(newss[i-j,2])\n",
    "        Xtrain.append(temp)\n",
    "    \n",
    "Xtest = []\n",
    "for i in range(0,len(newxx)):\n",
    "    if i%10 == 4:\n",
    "        temp = []\n",
    "        for j in range(4,-1,-1): \n",
    "            temp.append(newxx[i-j,0])\n",
    "            temp.append(newxx[i-j,1])\n",
    "            temp.append(newxx[i-j,2])\n",
    "        Xtest.append(temp)"
   ]
  },
  {
   "cell_type": "markdown",
   "metadata": {},
   "source": [
    "#### Shown above is the pca score for the most 3 important components"
   ]
  },
  {
   "cell_type": "markdown",
   "metadata": {},
   "source": [
    "## Randomly select 1000 positive data points and 1000 negative ones to save training time and avoid sample imbalance"
   ]
  },
  {
   "cell_type": "code",
   "execution_count": 4,
   "metadata": {},
   "outputs": [],
   "source": [
    "random.seed(999)\n",
    "\n",
    "#select positive data points\n",
    "id2 = []\n",
    "for i in range(0,len(Ytrain)):\n",
    "    if Ytrain[i] == 1:\n",
    "        id2.append(i)\n",
    "\n",
    "#select negative data points        \n",
    "id22 = []\n",
    "for i in range(0,len(Ytrain)):\n",
    "    if Ytrain[i] == -1:\n",
    "        id22.append(i)\n",
    "        \n",
    "selectid2 = []\n",
    "for i in range(0,1000):\n",
    "    selectid2.append(random.randint(0,len(id2)))\n",
    "\n",
    "selectid22 = []\n",
    "for i in range(0,1000):\n",
    "    selectid22.append(random.randint(0,len(id22)))    \n",
    "\n",
    "selectXtrain2 = []\n",
    "selectYtrain2 = []\n",
    "\n",
    "for i in range(0,1000):\n",
    "    selectXtrain2.append(Xtrain[id2[selectid2[i]]])\n",
    "    selectYtrain2.append(Ytrain[id2[selectid2[i]]])\n",
    "    selectXtrain2.append(Xtrain[id22[selectid22[i]]])\n",
    "    selectYtrain2.append(Ytrain[id22[selectid22[i]]])"
   ]
  },
  {
   "cell_type": "markdown",
   "metadata": {},
   "source": [
    "# SVM Method"
   ]
  },
  {
   "cell_type": "markdown",
   "metadata": {},
   "source": [
    "## Using linear model, set C = 10.0"
   ]
  },
  {
   "cell_type": "code",
   "execution_count": 5,
   "metadata": {},
   "outputs": [
    {
     "data": {
      "text/plain": [
       "SVC(C=10.0, break_ties=False, cache_size=200, class_weight=None, coef0=0.0,\n",
       "    decision_function_shape='ovr', degree=3, gamma='scale', kernel='linear',\n",
       "    max_iter=-1, probability=False, random_state=None, shrinking=True,\n",
       "    tol=0.001, verbose=False)"
      ]
     },
     "execution_count": 5,
     "metadata": {},
     "output_type": "execute_result"
    }
   ],
   "source": [
    "clf = svm.SVC(kernel='linear',C=10.0)\n",
    "clf.fit(selectXtrain2,selectYtrain2)"
   ]
  },
  {
   "cell_type": "code",
   "execution_count": 6,
   "metadata": {
    "scrolled": true
   },
   "outputs": [
    {
     "data": {
      "text/plain": [
       "0.5837757133377571"
      ]
     },
     "execution_count": 6,
     "metadata": {},
     "output_type": "execute_result"
    }
   ],
   "source": [
    "clf.score(Xtest,Ytest)"
   ]
  },
  {
   "cell_type": "code",
   "execution_count": 7,
   "metadata": {
    "scrolled": false
   },
   "outputs": [
    {
     "name": "stdout",
     "output_type": "stream",
     "text": [
      "[[14885  7194]\n",
      " [10369  9748]]\n"
     ]
    }
   ],
   "source": [
    "pred_y = clf.predict(Xtest)\n",
    "conf_mat = confusion_matrix(Ytest, pred_y)\n",
    "print(conf_mat)"
   ]
  },
  {
   "cell_type": "code",
   "execution_count": 8,
   "metadata": {},
   "outputs": [
    {
     "data": {
      "image/png": "[encoded data removed]",
      "text/plain": [
       "<Figure size 288x288 with 1 Axes>"
      ]
     },
     "metadata": {
      "needs_background": "light"
     },
     "output_type": "display_data"
    }
   ],
   "source": [
    "%matplotlib inline\n",
    "import matplotlib.pyplot as plt\n",
    "fig, ax = plt.subplots(figsize=(4, 4))\n",
    "ax.matshow(conf_mat, cmap=plt.cm.Blues, alpha=0.3)\n",
    "\n",
    "for i in range(conf_mat.shape[0]):\n",
    "    for j in range(conf_mat.shape[1]):\n",
    "        ax.text(x=j, y=i, s=conf_mat[i, j], va='center', ha='center')\n",
    "plt.xticks([0, 1], ['P*', 'N*'])\n",
    "plt.yticks([0, 1], ['P', 'N'])\n",
    "\n",
    "plt.xlabel('Predicted label')\n",
    "plt.ylabel('True label')\n",
    "\n",
    "plt.tight_layout()\n",
    "#plt.savefig('con_matrix_svm1.png', dpi=300)\n",
    "plt.show()"
   ]
  },
  {
   "cell_type": "markdown",
   "metadata": {},
   "source": [
    "## Using GridSearch to pick parameters"
   ]
  },
  {
   "cell_type": "code",
   "execution_count": 9,
   "metadata": {},
   "outputs": [
    {
     "name": "stdout",
     "output_type": "stream",
     "text": [
      "0.6025\n",
      "{'svc__C': 1000.0, 'svc__gamma': 0.01, 'svc__kernel': 'rbf'}\n"
     ]
    }
   ],
   "source": [
    "from sklearn.pipeline import make_pipeline\n",
    "from sklearn.svm import SVC\n",
    "\n",
    "pipe_svc = make_pipeline(SVC(random_state=999))\n",
    "\n",
    "param_range = [0.0001, 0.001, 0.01, 0.1, 1.0, 10.0, 100.0, 1000.0]\n",
    "\n",
    "param_grid = [{'svc__C': param_range, \n",
    "               'svc__kernel': ['linear']},\n",
    "              {'svc__C': param_range, \n",
    "               'svc__gamma': param_range, \n",
    "               'svc__kernel': ['rbf']}]\n",
    "\n",
    "gs = GridSearchCV(estimator=pipe_svc, \n",
    "                  param_grid=param_grid, \n",
    "                  scoring='accuracy', \n",
    "                  cv=10,\n",
    "                  n_jobs=-1)\n",
    "gs = gs.fit(selectXtrain2,selectYtrain2)\n",
    "print(gs.best_score_)\n",
    "print(gs.best_params_)"
   ]
  },
  {
   "cell_type": "code",
   "execution_count": 10,
   "metadata": {},
   "outputs": [
    {
     "name": "stdout",
     "output_type": "stream",
     "text": [
      "0.6101052232439094\n",
      "[[14900  7179]\n",
      " [ 9273 10844]]\n",
      "              precision    recall  f1-score   support\n",
      "\n",
      "          -1       0.62      0.67      0.64     22079\n",
      "           1       0.60      0.54      0.57     20117\n",
      "\n",
      "    accuracy                           0.61     42196\n",
      "   macro avg       0.61      0.61      0.61     42196\n",
      "weighted avg       0.61      0.61      0.61     42196\n",
      "\n"
     ]
    }
   ],
   "source": [
    "clf2 = svm.SVC(kernel='rbf',C=100.0,gamma=0.01)\n",
    "clf2.fit(selectXtrain2,selectYtrain2)\n",
    "print(clf2.score(Xtest,Ytest))\n",
    "pred_y2 = clf2.predict(Xtest)\n",
    "conf_mat2 = confusion_matrix(Ytest, pred_y2)\n",
    "print(conf_mat2)\n",
    "print(classification_report(Ytest, pred_y2))"
   ]
  },
  {
   "cell_type": "code",
   "execution_count": 11,
   "metadata": {},
   "outputs": [
    {
     "data": {
      "image/png": "[encoded data removed]",
      "text/plain": [
       "<Figure size 288x288 with 1 Axes>"
      ]
     },
     "metadata": {
      "needs_background": "light"
     },
     "output_type": "display_data"
    }
   ],
   "source": [
    "%matplotlib inline\n",
    "import matplotlib.pyplot as plt\n",
    "fig, ax = plt.subplots(figsize=(4, 4))\n",
    "ax.matshow(conf_mat2, cmap=plt.cm.Blues, alpha=0.3)\n",
    "\n",
    "for i in range(conf_mat2.shape[0]):\n",
    "    for j in range(conf_mat2.shape[1]):\n",
    "        ax.text(x=j, y=i, s=conf_mat2[i, j], va='center', ha='center')\n",
    "plt.xticks([0, 1], ['P*', 'N*'])\n",
    "plt.yticks([0, 1], ['P', 'N'])\n",
    "\n",
    "plt.xlabel('Predicted label')\n",
    "plt.ylabel('True label')\n",
    "\n",
    "plt.tight_layout()\n",
    "#plt.savefig('con_matrix_svm2.png', dpi=300)\n",
    "plt.show()"
   ]
  },
  {
   "cell_type": "markdown",
   "metadata": {},
   "source": [
    "# Logistic Regression Method"
   ]
  },
  {
   "cell_type": "markdown",
   "metadata": {},
   "source": [
    "## Get the parameters for the Logistics Regression Method"
   ]
  },
  {
   "cell_type": "code",
   "execution_count": 12,
   "metadata": {},
   "outputs": [
    {
     "data": {
      "text/plain": [
       "dict_keys(['memory', 'steps', 'verbose', 'logisticregression', 'logisticregression__C', 'logisticregression__class_weight', 'logisticregression__dual', 'logisticregression__fit_intercept', 'logisticregression__intercept_scaling', 'logisticregression__l1_ratio', 'logisticregression__max_iter', 'logisticregression__multi_class', 'logisticregression__n_jobs', 'logisticregression__penalty', 'logisticregression__random_state', 'logisticregression__solver', 'logisticregression__tol', 'logisticregression__verbose', 'logisticregression__warm_start'])"
      ]
     },
     "execution_count": 12,
     "metadata": {},
     "output_type": "execute_result"
    }
   ],
   "source": [
    "penaltys = ['l1','l2']\n",
    "Cs = [0.0001, 0.001, 0.01, 0.1, 1.0, 10.0, 100.0, 1000.0]\n",
    "#param_grid = dict(penalty = penaltys, C = Cs)\n",
    "pipe_lr = make_pipeline(LogisticRegression(random_state=1))\n",
    "pipe_lr.get_params().keys()"
   ]
  },
  {
   "cell_type": "code",
   "execution_count": 13,
   "metadata": {},
   "outputs": [
    {
     "name": "stdout",
     "output_type": "stream",
     "text": [
      "0.554\n",
      "{'logisticregression__C': 100.0, 'logisticregression__penalty': 'l2'}\n"
     ]
    }
   ],
   "source": [
    "gs = GridSearchCV(pipe_lr, \n",
    "                  param_grid={'logisticregression__C':Cs, 'logisticregression__penalty':penaltys}, \n",
    "                  cv=10,\n",
    "                  scoring = 'accuracy',\n",
    "                  n_jobs=-1)\n",
    "warnings.filterwarnings(\"ignore\")\n",
    "gs = gs.fit(selectXtrain2,selectYtrain2)\n",
    "print(gs.best_score_)\n",
    "print(gs.best_params_)"
   ]
  },
  {
   "cell_type": "code",
   "execution_count": 14,
   "metadata": {},
   "outputs": [
    {
     "name": "stdout",
     "output_type": "stream",
     "text": [
      "0.5640108067115366\n",
      "[[13504  8575]\n",
      " [ 9822 10295]]\n",
      "              precision    recall  f1-score   support\n",
      "\n",
      "          -1       0.58      0.61      0.59     22079\n",
      "           1       0.55      0.51      0.53     20117\n",
      "\n",
      "    accuracy                           0.56     42196\n",
      "   macro avg       0.56      0.56      0.56     42196\n",
      "weighted avg       0.56      0.56      0.56     42196\n",
      "\n"
     ]
    }
   ],
   "source": [
    "gs.fit(selectXtrain2,selectYtrain2)\n",
    "print(gs.score(Xtest,Ytest))\n",
    "pred_y2 = gs.predict(Xtest)\n",
    "conf_mat2 = confusion_matrix(Ytest, pred_y2)\n",
    "print(conf_mat2)\n",
    "print(classification_report(Ytest, pred_y2))"
   ]
  },
  {
   "cell_type": "code",
   "execution_count": 15,
   "metadata": {},
   "outputs": [
    {
     "data": {
      "image/png": "[encoded data removed]",
      "text/plain": [
       "<Figure size 288x288 with 1 Axes>"
      ]
     },
     "metadata": {
      "needs_background": "light"
     },
     "output_type": "display_data"
    }
   ],
   "source": [
    "%matplotlib inline\n",
    "import matplotlib.pyplot as plt\n",
    "fig, ax = plt.subplots(figsize=(4, 4))\n",
    "ax.matshow(conf_mat2, cmap=plt.cm.Blues, alpha=0.3)\n",
    "\n",
    "for i in range(conf_mat2.shape[0]):\n",
    "    for j in range(conf_mat2.shape[1]):\n",
    "        ax.text(x=j, y=i, s=conf_mat2[i, j], va='center', ha='center')\n",
    "plt.xticks([0, 1], ['P*', 'N*'])\n",
    "plt.yticks([0, 1], ['P', 'N'])\n",
    "\n",
    "plt.xlabel('Predicted label')\n",
    "plt.ylabel('True label')\n",
    "\n",
    "plt.tight_layout()\n",
    "#plt.savefig('con_matrix_lr.png', dpi=300)\n",
    "plt.show()"
   ]
  },
  {
   "cell_type": "markdown",
   "metadata": {},
   "source": [
    "# Random Forest Method"
   ]
  },
  {
   "cell_type": "code",
   "execution_count": 16,
   "metadata": {},
   "outputs": [
    {
     "data": {
      "text/plain": [
       "RandomForestClassifier(bootstrap=True, ccp_alpha=0.0, class_weight=None,\n",
       "                       criterion='gini', max_depth=3, max_features=3,\n",
       "                       max_leaf_nodes=None, max_samples=None,\n",
       "                       min_impurity_decrease=0.0, min_impurity_split=None,\n",
       "                       min_samples_leaf=1, min_samples_split=2,\n",
       "                       min_weight_fraction_leaf=0.0, n_estimators=10, n_jobs=2,\n",
       "                       oob_score=False, random_state=1, verbose=0,\n",
       "                       warm_start=False)"
      ]
     },
     "execution_count": 16,
     "metadata": {},
     "output_type": "execute_result"
    }
   ],
   "source": [
    "forest = RandomForestClassifier(criterion='gini', n_estimators=10, max_features=3, max_depth=3, random_state=1, n_jobs=2)\n",
    "forest.fit(selectXtrain2, selectYtrain2)"
   ]
  },
  {
   "cell_type": "code",
   "execution_count": 17,
   "metadata": {},
   "outputs": [
    {
     "data": {
      "text/plain": [
       "0.5553606976964641"
      ]
     },
     "execution_count": 17,
     "metadata": {},
     "output_type": "execute_result"
    }
   ],
   "source": [
    "forest.score(Xtest,Ytest)"
   ]
  },
  {
   "cell_type": "code",
   "execution_count": 18,
   "metadata": {},
   "outputs": [
    {
     "name": "stdout",
     "output_type": "stream",
     "text": [
      "[[15432  6647]\n",
      " [12115  8002]]\n"
     ]
    }
   ],
   "source": [
    "pred_y = forest.predict(Xtest)\n",
    "conf_mat = confusion_matrix(Ytest, pred_y)\n",
    "print(conf_mat)"
   ]
  },
  {
   "cell_type": "code",
   "execution_count": 20,
   "metadata": {},
   "outputs": [
    {
     "data": {
      "image/png": "[encoded data removed]",
      "text/plain": [
       "<Figure size 288x288 with 1 Axes>"
      ]
     },
     "metadata": {
      "needs_background": "light"
     },
     "output_type": "display_data"
    }
   ],
   "source": [
    "%matplotlib inline\n",
    "import matplotlib.pyplot as plt\n",
    "fig, ax = plt.subplots(figsize=(4, 4))\n",
    "ax.matshow(conf_mat, cmap=plt.cm.Blues, alpha=0.3)\n",
    "\n",
    "for i in range(conf_mat.shape[0]):\n",
    "    for j in range(conf_mat.shape[1]):\n",
    "        ax.text(x=j, y=i, s=conf_mat[i, j], va='center', ha='center')\n",
    "plt.xticks([0, 1], ['P*', 'N*'])\n",
    "plt.yticks([0, 1], ['P', 'N'])\n",
    "\n",
    "plt.xlabel('Predicted label')\n",
    "plt.ylabel('True label')\n",
    "\n",
    "plt.tight_layout()\n",
    "#plt.savefig('con_matrix_rf1.png', dpi=300)\n",
    "plt.show()"
   ]
  },
  {
   "cell_type": "markdown",
   "metadata": {},
   "source": [
    "## Using GridSearch to pick parameters"
   ]
  },
  {
   "cell_type": "code",
   "execution_count": 21,
   "metadata": {},
   "outputs": [
    {
     "name": "stdout",
     "output_type": "stream",
     "text": [
      "0.5710000000000001\n",
      "{'criterion': 'entropy', 'max_depth': 4, 'n_estimators': 50}\n"
     ]
    }
   ],
   "source": [
    "from sklearn.model_selection import GridSearchCV\n",
    "pipe_rf = RandomForestClassifier()\n",
    "\n",
    "param_range = [2, 3, 4]\n",
    "param_grid = {'max_depth': param_range, 'criterion':['gini','entropy'], 'n_estimators': [10, 30, 50]}\n",
    "gs = GridSearchCV(estimator=pipe_rf, \n",
    "                  param_grid=param_grid, \n",
    "                  scoring='accuracy', \n",
    "                  cv=10,\n",
    "                  n_jobs=-1)\n",
    "gs = gs.fit(selectXtrain2,selectYtrain2)\n",
    "print(gs.best_score_)\n",
    "print(gs.best_params_)"
   ]
  },
  {
   "cell_type": "code",
   "execution_count": 22,
   "metadata": {},
   "outputs": [
    {
     "name": "stdout",
     "output_type": "stream",
     "text": [
      "0.561309128827377\n",
      "[[15123  6956]\n",
      " [11555  8562]]\n",
      "              precision    recall  f1-score   support\n",
      "\n",
      "          -1       0.57      0.68      0.62     22079\n",
      "           1       0.55      0.43      0.48     20117\n",
      "\n",
      "    accuracy                           0.56     42196\n",
      "   macro avg       0.56      0.56      0.55     42196\n",
      "weighted avg       0.56      0.56      0.55     42196\n",
      "\n"
     ]
    }
   ],
   "source": [
    "rf2 = RandomForestClassifier(criterion='entropy', n_estimators=30, max_features=3, max_depth=3, random_state=1, n_jobs=-1)\n",
    "rf2.fit(selectXtrain2, selectYtrain2)\n",
    "print(rf2.score(Xtest,Ytest))\n",
    "pred_y2 = rf2.predict(Xtest)\n",
    "conf_mat2 = confusion_matrix(Ytest, pred_y2)\n",
    "print(conf_mat2)\n",
    "print(classification_report(Ytest, pred_y2))"
   ]
  },
  {
   "cell_type": "code",
   "execution_count": 23,
   "metadata": {},
   "outputs": [
    {
     "data": {
      "image/png": "[encoded data removed]",
      "text/plain": [
       "<Figure size 288x288 with 1 Axes>"
      ]
     },
     "metadata": {
      "needs_background": "light"
     },
     "output_type": "display_data"
    }
   ],
   "source": [
    "%matplotlib inline\n",
    "import matplotlib.pyplot as plt\n",
    "fig, ax = plt.subplots(figsize=(4, 4))\n",
    "ax.matshow(conf_mat2, cmap=plt.cm.Blues, alpha=0.3)\n",
    "\n",
    "for i in range(conf_mat2.shape[0]):\n",
    "    for j in range(conf_mat2.shape[1]):\n",
    "        ax.text(x=j, y=i, s=conf_mat2[i, j], va='center', ha='center')\n",
    "plt.xticks([0, 1], ['P*', 'N*'])\n",
    "plt.yticks([0, 1], ['P', 'N'])\n",
    "\n",
    "plt.xlabel('Predicted label')\n",
    "plt.ylabel('True label')\n",
    "\n",
    "plt.tight_layout()\n",
    "#plt.savefig('con_matrix_rf2.png', dpi=300)\n",
    "plt.show()"
   ]
  },
  {
   "cell_type": "markdown",
   "metadata": {},
   "source": [
    "# KNN Method"
   ]
  },
  {
   "cell_type": "code",
   "execution_count": 24,
   "metadata": {},
   "outputs": [
    {
     "name": "stdout",
     "output_type": "stream",
     "text": [
      "Training Accuracy: 0.689\n",
      "Test Accuracy: 0.559\n"
     ]
    }
   ],
   "source": [
    "X_train, X_test, y_train, y_test = selectXtrain2, Xtest, selectYtrain2, Ytest \n",
    "\n",
    "from sklearn.preprocessing import StandardScaler\n",
    "from sklearn.neighbors import KNeighborsClassifier\n",
    "from sklearn.pipeline import make_pipeline\n",
    "\n",
    "pipe_knn = make_pipeline(StandardScaler(),\n",
    "                       KNeighborsClassifier(n_neighbors=10, \n",
    "                           p=2, \n",
    "                           metric='minkowski'))\n",
    "\n",
    "pipe_knn.fit(X_train, y_train)\n",
    "y_pred = pipe_knn.predict(X_test)\n",
    "print('Training Accuracy: %.3f' % pipe_knn.score(X_train, y_train))\n",
    "print('Test Accuracy: %.3f' % pipe_knn.score(X_test, y_test))"
   ]
  },
  {
   "cell_type": "markdown",
   "metadata": {},
   "source": [
    "## Learning curve"
   ]
  },
  {
   "cell_type": "code",
   "execution_count": 25,
   "metadata": {},
   "outputs": [
    {
     "data": {
      "image/png": "[encoded data removed]",
      "text/plain": [
       "<Figure size 432x288 with 1 Axes>"
      ]
     },
     "metadata": {
      "needs_background": "light"
     },
     "output_type": "display_data"
    }
   ],
   "source": [
    "%matplotlib inline\n",
    "import matplotlib.pyplot as plt\n",
    "from sklearn.model_selection import learning_curve\n",
    "\n",
    "train_sizes, train_scores, test_scores =\\\n",
    "                learning_curve(estimator=pipe_knn,\n",
    "                               X=X_train,\n",
    "                               y=y_train,\n",
    "                               train_sizes=np.linspace(0.1, 1.0, 10),\n",
    "                               cv=10,\n",
    "                               n_jobs=1)\n",
    "\n",
    "train_mean = np.mean(train_scores, axis=1)\n",
    "train_std = np.std(train_scores, axis=1)\n",
    "test_mean = np.mean(test_scores, axis=1)\n",
    "test_std = np.std(test_scores, axis=1)\n",
    "\n",
    "plt.plot(train_sizes, train_mean,\n",
    "         color='blue', marker='o',\n",
    "         markersize=5, label='training accuracy')\n",
    "\n",
    "plt.fill_between(train_sizes,\n",
    "                 train_mean + train_std,\n",
    "                 train_mean - train_std,\n",
    "                 alpha=0.15, color='blue')\n",
    "\n",
    "plt.plot(train_sizes, test_mean,\n",
    "         color='green', linestyle='--',\n",
    "         marker='s', markersize=5,\n",
    "         label='validation accuracy')\n",
    "\n",
    "plt.fill_between(train_sizes,\n",
    "                 test_mean + test_std,\n",
    "                 test_mean - test_std,\n",
    "                 alpha=0.15, color='green')\n",
    "\n",
    "plt.grid()\n",
    "plt.xlabel('Number of training samples')\n",
    "plt.ylabel('Accuracy')\n",
    "plt.legend(loc='lower right')\n",
    "plt.ylim([0.5, 0.8])\n",
    "plt.tight_layout()\n",
    "#plt.savefig('learning_curve', dpi=300)\n",
    "plt.show()"
   ]
  },
  {
   "cell_type": "markdown",
   "metadata": {},
   "source": [
    "## Validation curve"
   ]
  },
  {
   "cell_type": "code",
   "execution_count": 26,
   "metadata": {},
   "outputs": [
    {
     "data": {
      "text/plain": [
       "dict_keys(['memory', 'steps', 'verbose', 'standardscaler', 'kneighborsclassifier', 'standardscaler__copy', 'standardscaler__with_mean', 'standardscaler__with_std', 'kneighborsclassifier__algorithm', 'kneighborsclassifier__leaf_size', 'kneighborsclassifier__metric', 'kneighborsclassifier__metric_params', 'kneighborsclassifier__n_jobs', 'kneighborsclassifier__n_neighbors', 'kneighborsclassifier__p', 'kneighborsclassifier__weights'])"
      ]
     },
     "execution_count": 26,
     "metadata": {},
     "output_type": "execute_result"
    }
   ],
   "source": [
    "pipe_knn.get_params().keys()"
   ]
  },
  {
   "cell_type": "code",
   "execution_count": 27,
   "metadata": {},
   "outputs": [
    {
     "data": {
      "image/png": "[encoded data removed]",
      "text/plain": [
       "<Figure size 432x288 with 1 Axes>"
      ]
     },
     "metadata": {
      "needs_background": "light"
     },
     "output_type": "display_data"
    }
   ],
   "source": [
    "from sklearn.model_selection import validation_curve\n",
    "\n",
    "param_range = [i for i in range(5,13)]\n",
    "train_scores, test_scores = validation_curve(\n",
    "                estimator=pipe_knn, \n",
    "                X=X_train, \n",
    "                y=y_train, \n",
    "                param_name='kneighborsclassifier__n_neighbors', \n",
    "                param_range=param_range,\n",
    "                cv=10)\n",
    "\n",
    "train_mean = np.mean(train_scores, axis=1)\n",
    "train_std = np.std(train_scores, axis=1)\n",
    "test_mean = np.mean(test_scores, axis=1)\n",
    "test_std = np.std(test_scores, axis=1)\n",
    "\n",
    "plt.plot(param_range, train_mean, \n",
    "         color='blue', marker='o', \n",
    "         markersize=5, label='training accuracy')\n",
    "\n",
    "plt.fill_between(param_range, train_mean + train_std,\n",
    "                 train_mean - train_std, alpha=0.15,\n",
    "                 color='blue')\n",
    "\n",
    "plt.plot(param_range, test_mean, \n",
    "         color='green', linestyle='--', \n",
    "         marker='s', markersize=5, \n",
    "         label='validation accuracy')\n",
    "\n",
    "plt.fill_between(param_range, \n",
    "                 test_mean + test_std,\n",
    "                 test_mean - test_std, \n",
    "                 alpha=0.15, color='green')\n",
    "\n",
    "plt.grid()\n",
    "plt.xscale('log')\n",
    "plt.legend(loc='lower right')\n",
    "plt.xlabel('Number of neighbors')\n",
    "plt.ylabel('Accuracy')\n",
    "plt.ylim([0.5, 0.8])\n",
    "plt.tight_layout()\n",
    "#plt.savefig('validation_curve.png', dpi=300)\n",
    "plt.show()"
   ]
  },
  {
   "cell_type": "markdown",
   "metadata": {},
   "source": [
    "## Confusion matrix"
   ]
  },
  {
   "cell_type": "code",
   "execution_count": 28,
   "metadata": {},
   "outputs": [
    {
     "name": "stdout",
     "output_type": "stream",
     "text": [
      "[[14532  7547]\n",
      " [11079  9038]]\n"
     ]
    }
   ],
   "source": [
    "from sklearn.metrics import confusion_matrix\n",
    "y_pred = pipe_knn.predict(X_test)\n",
    "confmat = confusion_matrix(y_true=y_test, y_pred=y_pred)\n",
    "print(confmat)"
   ]
  },
  {
   "cell_type": "code",
   "execution_count": 29,
   "metadata": {},
   "outputs": [
    {
     "data": {
      "image/png": "[encoded data removed]",
      "text/plain": [
       "<Figure size 288x288 with 1 Axes>"
      ]
     },
     "metadata": {
      "needs_background": "light"
     },
     "output_type": "display_data"
    }
   ],
   "source": [
    "%matplotlib inline\n",
    "import matplotlib.pyplot as plt\n",
    "fig, ax = plt.subplots(figsize=(4, 4))\n",
    "ax.matshow(confmat, cmap=plt.cm.Blues, alpha=0.3)\n",
    "\n",
    "for i in range(confmat.shape[0]):\n",
    "    for j in range(confmat.shape[1]):\n",
    "        ax.text(x=j, y=i, s=confmat[i, j], va='center', ha='center')\n",
    "plt.xticks([0, 1], ['P*', 'N*'])\n",
    "plt.yticks([0, 1], ['P', 'N'])\n",
    "\n",
    "plt.xlabel('Predicted label')\n",
    "plt.ylabel('True label')\n",
    "\n",
    "plt.tight_layout()\n",
    "#plt.savefig('con_matrix.png', dpi=300)\n",
    "plt.show()"
   ]
  },
  {
   "cell_type": "markdown",
   "metadata": {},
   "source": [
    "## Precision, recall and F1-score"
   ]
  },
  {
   "cell_type": "code",
   "execution_count": 30,
   "metadata": {},
   "outputs": [
    {
     "name": "stdout",
     "output_type": "stream",
     "text": [
      "Precision: 0.545\n",
      "Recall: 0.449\n",
      "F1: 0.493\n"
     ]
    }
   ],
   "source": [
    "from sklearn.metrics import precision_score\n",
    "from sklearn.metrics import recall_score, f1_score\n",
    "print('Precision: %.3f' % precision_score(y_true=y_test, y_pred=y_pred))\n",
    "print('Recall: %.3f' % recall_score(y_true=y_test, y_pred=y_pred))\n",
    "print('F1: %.3f' % f1_score(y_true=y_test, y_pred=y_pred))"
   ]
  },
  {
   "cell_type": "markdown",
   "metadata": {},
   "source": [
    "## Gridsearch"
   ]
  },
  {
   "cell_type": "code",
   "execution_count": 31,
   "metadata": {},
   "outputs": [
    {
     "data": {
      "text/plain": [
       "dict_keys(['memory', 'steps', 'verbose', 'standardscaler', 'kneighborsclassifier', 'standardscaler__copy', 'standardscaler__with_mean', 'standardscaler__with_std', 'kneighborsclassifier__algorithm', 'kneighborsclassifier__leaf_size', 'kneighborsclassifier__metric', 'kneighborsclassifier__metric_params', 'kneighborsclassifier__n_jobs', 'kneighborsclassifier__n_neighbors', 'kneighborsclassifier__p', 'kneighborsclassifier__weights'])"
      ]
     },
     "execution_count": 31,
     "metadata": {},
     "output_type": "execute_result"
    }
   ],
   "source": [
    "pipe_knngrid = make_pipeline(StandardScaler(),\n",
    "                         KNeighborsClassifier())\n",
    "pipe_knngrid.get_params().keys()"
   ]
  },
  {
   "cell_type": "code",
   "execution_count": 32,
   "metadata": {},
   "outputs": [
    {
     "name": "stdout",
     "output_type": "stream",
     "text": [
      "Best score: 0.59200\n",
      "{'kneighborsclassifier__n_neighbors': 14}\n"
     ]
    }
   ],
   "source": [
    "from sklearn.model_selection import GridSearchCV\n",
    "param_range = [i for i in range(5, 21)]\n",
    "\n",
    "param_grid = {'kneighborsclassifier__n_neighbors':param_range}\n",
    "       \n",
    "gs = GridSearchCV(estimator=pipe_knngrid, \n",
    "                  param_grid=param_grid, \n",
    "                  scoring='accuracy', \n",
    "                  cv=10,\n",
    "                  n_jobs=-1)\n",
    "gs = gs.fit(X_train, y_train)\n",
    "print('Best score: %.5f' % gs.best_score_)\n",
    "print(gs.best_params_)"
   ]
  },
  {
   "cell_type": "markdown",
   "metadata": {},
   "source": [
    "### Training and test accuracy under '14 neighbors'"
   ]
  },
  {
   "cell_type": "code",
   "execution_count": 33,
   "metadata": {},
   "outputs": [
    {
     "name": "stdout",
     "output_type": "stream",
     "text": [
      "Training Accuracy: 0.664\n",
      "Test Accuracy: 0.560\n"
     ]
    }
   ],
   "source": [
    "pipe_knn_final = make_pipeline(StandardScaler(),\n",
    "                       gs.best_estimator_)\n",
    "\n",
    "pipe_knn_final.fit(X_train, y_train)\n",
    "y_pred = pipe_knn_final.predict(X_test)\n",
    "print('Training Accuracy: %.3f' % pipe_knn_final.score(X_train, y_train))\n",
    "print('Test Accuracy: %.3f' % pipe_knn_final.score(X_test, y_test))"
   ]
  },
  {
   "cell_type": "markdown",
   "metadata": {},
   "source": [
    "### Precision, recall and F1-score under '14 neighbors'"
   ]
  },
  {
   "cell_type": "code",
   "execution_count": 34,
   "metadata": {},
   "outputs": [
    {
     "name": "stdout",
     "output_type": "stream",
     "text": [
      "Precision: 0.546\n",
      "Recall: 0.459\n",
      "F1: 0.499\n"
     ]
    }
   ],
   "source": [
    "print('Precision: %.3f' % precision_score(y_true=y_test, y_pred=y_pred))\n",
    "print('Recall: %.3f' % recall_score(y_true=y_test, y_pred=y_pred))\n",
    "print('F1: %.3f' % f1_score(y_true=y_test, y_pred=y_pred))"
   ]
  },
  {
   "cell_type": "code",
   "execution_count": 35,
   "metadata": {},
   "outputs": [
    {
     "name": "stdout",
     "output_type": "stream",
     "text": [
      "              precision    recall  f1-score   support\n",
      "\n",
      "          -1       0.57      0.65      0.61     22079\n",
      "           1       0.55      0.46      0.50     20117\n",
      "\n",
      "    accuracy                           0.56     42196\n",
      "   macro avg       0.56      0.56      0.55     42196\n",
      "weighted avg       0.56      0.56      0.56     42196\n",
      "\n"
     ]
    }
   ],
   "source": [
    "from sklearn.metrics import classification_report\n",
    "print(classification_report(y_test, y_pred))"
   ]
  }
 ],
 "metadata": {
  "kernelspec": {
   "display_name": "Python 3",
   "language": "python",
   "name": "python3"
  },
  "language_info": {
   "codemirror_mode": {
    "name": "ipython",
    "version": 3
   },
   "file_extension": ".py",
   "mimetype": "text/x-python",
   "name": "python",
   "nbconvert_exporter": "python",
   "pygments_lexer": "ipython3",
   "version": "3.7.0"
  }
 },
 "nbformat": 4,
 "nbformat_minor": 2
}
